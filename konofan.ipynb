{
 "cells": [
  {
   "cell_type": "code",
   "execution_count": 75,
   "metadata": {},
   "outputs": [],
   "source": [
    "import android_auto_play_opencv as am\n",
    "import subprocess\n",
    "# adbpath = 'C:\\\\Users\\\\higik\\\\OneDrive\\\\ドキュメント\\\\platform-tools\\\\'\n"
   ]
  },
  {
   "cell_type": "code",
   "execution_count": null,
   "metadata": {},
   "outputs": [],
   "source": []
  }
 ],
 "metadata": {
  "kernelspec": {
   "display_name": "Python 3.9.13 ('venv': venv)",
   "language": "python",
   "name": "python3"
  },
  "language_info": {
   "codemirror_mode": {
    "name": "ipython",
    "version": 3
   },
   "file_extension": ".py",
   "mimetype": "text/x-python",
   "name": "python",
   "nbconvert_exporter": "python",
   "pygments_lexer": "ipython3",
   "version": "3.9.13"
  },
  "orig_nbformat": 4,
  "vscode": {
   "interpreter": {
    "hash": "ec05d25148161a7812d69c470ef001398f5fb4009ce6fe51f0e3ac52fbb62d0c"
   }
  }
 },
 "nbformat": 4,
 "nbformat_minor": 2
}
