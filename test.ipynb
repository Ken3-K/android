{
 "cells": [
  {
   "cell_type": "code",
   "execution_count": 49,
   "metadata": {},
   "outputs": [],
   "source": [
    "import android_auto_play_opencv as am\n",
    "from subprocess import check_output\n",
    "# adbpath = 'C:\\\\Users\\\\higik\\\\OneDrive\\\\ドキュメント\\\\platform-tools\\\\'\n",
    "adbpath = \"/Users/kenzaburo/Library/Android/sdk/platform-tools/\"\n",
    "imgpath = \"konofun_oppo/img/\""
   ]
  },
  {
   "cell_type": "code",
   "execution_count": 46,
   "metadata": {},
   "outputs": [],
   "source": [
    "import numpy as np\n",
    "import matplotlib.pyplot as plt"
   ]
  },
  {
   "cell_type": "code",
   "execution_count": 45,
   "metadata": {},
   "outputs": [
    {
     "data": {
      "image/png": "[encoded data removed]",
      "text/plain": [
       "<Figure size 432x288 with 1 Axes>"
      ]
     },
     "metadata": {
      "needs_background": "light"
     },
     "output_type": "display_data"
    }
   ],
   "source": [
    "theta = np.linspace(0, np.pi+1)\n",
    "k = 5\n",
    "U = -np.cos(theta) - k/2 * np.sin(theta) ** 2\n",
    "plt.xticks([0, np.pi/2, np.pi], [0, r\"$\\pi/2$\",  r\"$\\pi$\"])\n",
    "\n",
    "plt.plot(theta, U)\n",
    "plt.show()"
   ]
  },
  {
   "cell_type": "code",
   "execution_count": 102,
   "metadata": {},
   "outputs": [
    {
     "name": "stdout",
     "output_type": "stream",
     "text": [
      "cod\n"
     ]
    }
   ],
   "source": [
    "import numpy as np\n",
    "# L, R = 2, 5\n",
    "L, R = map(int, input().split())\n",
    "atcoder = \"atcoder\"\n",
    "print(atcoder[L-1:R])"
   ]
  },
  {
   "cell_type": "code",
   "execution_count": 4,
   "metadata": {},
   "outputs": [
    {
     "ename": "ModuleNotFoundError",
     "evalue": "No module named 'winsound'",
     "output_type": "error",
     "traceback": [
      "\u001b[0;31m---------------------------------------------------------------------------\u001b[0m",
      "\u001b[0;31mModuleNotFoundError\u001b[0m                       Traceback (most recent call last)",
      "\u001b[1;32mセル5 を /Users/kenzaburo/github/android/test.ipynb\u001b[0m in \u001b[0;36m<cell line: 2>\u001b[0;34m()\u001b[0m\n\u001b[1;32m      <a href='vscode-notebook-cell:/Users/kenzaburo/github/android/test.ipynb#X13sZmlsZQ%3D%3D?line=0'>1</a>\u001b[0m \u001b[39m# ビープ音の再生\u001b[39;00m\n\u001b[0;32m----> <a href='vscode-notebook-cell:/Users/kenzaburo/github/android/test.ipynb#X13sZmlsZQ%3D%3D?line=1'>2</a>\u001b[0m \u001b[39mimport\u001b[39;00m \u001b[39mwinsound\u001b[39;00m\n\u001b[1;32m      <a href='vscode-notebook-cell:/Users/kenzaburo/github/android/test.ipynb#X13sZmlsZQ%3D%3D?line=3'>4</a>\u001b[0m winsound\u001b[39m.\u001b[39mBeep(\u001b[39m1000\u001b[39m, \u001b[39m100\u001b[39m)\n",
      "\u001b[0;31mModuleNotFoundError\u001b[0m: No module named 'winsound'"
     ]
    }
   ],
   "source": [
    "# ビープ音の再生\n",
    "import winsound\n",
    "\n",
    "winsound.Beep(1000, 100) # 1000Hzのビープを100ms再生"
   ]
  },
  {
   "cell_type": "code",
   "execution_count": 5,
   "metadata": {},
   "outputs": [
    {
     "name": "stdout",
     "output_type": "stream",
     "text": [
      "\u0007\n"
     ]
    }
   ],
   "source": [
    "print(\"\\007\")"
   ]
  },
  {
   "cell_type": "code",
   "execution_count": 44,
   "metadata": {},
   "outputs": [
    {
     "name": "stdout",
     "output_type": "stream",
     "text": [
      "2\n"
     ]
    }
   ],
   "source": [
    "N = int(input())\n",
    "array = np.array(list(map(int, input().split())))\n",
    "array\n",
    "n = 0\n",
    "while np.all(array % 2 == np.zeros_like(array)):\n",
    "    n +=1\n",
    "    array = array/2\n",
    "print(n)"
   ]
  },
  {
   "cell_type": "markdown",
   "metadata": {},
   "source": [
    "500A + 100B +50C = X \n",
    "X = 50n (n は自然数)\n",
    "\n",
    "従って\n",
    "10A + 2B + C = n\n",
    "1 <= n <= 400 "
   ]
  },
  {
   "cell_type": "code",
   "execution_count": 24,
   "metadata": {},
   "outputs": [
    {
     "name": "stdout",
     "output_type": "stream",
     "text": [
      "dream\n",
      "0\n",
      "dreamer\n",
      "0\n",
      "erase\n",
      "5\n",
      "eraser\n",
      "5\n"
     ]
    }
   ],
   "source": [
    "string = \"dream dreamer erase eraser\".split()\n",
    "# S = input()\n",
    "S = \"dreameraser\"\n",
    "for s in string:\n",
    "    print(s)\n",
    "    print(S.rfind(s))"
   ]
  },
  {
   "cell_type": "code",
   "execution_count": 9,
   "metadata": {},
   "outputs": [
    {
     "data": {
      "text/plain": [
       "1"
      ]
     },
     "execution_count": 9,
     "metadata": {},
     "output_type": "execute_result"
    }
   ],
   "source": [
    "N = int(input())\n",
    "t0, x0, y0 = 0, 0, 0\n",
    "\n",
    "def reachable(t0, x0, y0, t, x, y):\n",
    "    distance = abs(x - x0) + abs(y - y0)\n",
    "    if distance > (t - t0):\n",
    "        print(\"No\")\n",
    "        exit()\n",
    "    elif (distance - (t - t0)) % 2 == 1:\n",
    "        print(\"No\")\n",
    "        exit()\n",
    "    else:\n",
    "        return\n",
    "\n",
    "for i in range(N):\n",
    "    t, x, y = map(int, input().split())\n",
    "    print(t, x, y)\n",
    "    reachable(t0, x0, y0, t, x, y)\n",
    "    t0, x0, y0 = t, x, y\n",
    "print(\"Yes\")\n",
    "\n"
   ]
  },
  {
   "cell_type": "code",
   "execution_count": 31,
   "metadata": {},
   "outputs": [
    {
     "data": {
      "text/plain": [
       "2580.957645466576"
      ]
     },
     "execution_count": 31,
     "metadata": {},
     "output_type": "execute_result"
    }
   ],
   "source": [
    "from math import pi\n",
    "A = 6 * 64 * 2**(2/3) * pi**(8/3) / 5\n",
    "A"
   ]
  },
  {
   "cell_type": "code",
   "execution_count": 32,
   "metadata": {},
   "outputs": [
    {
     "data": {
      "text/plain": [
       "0.968632710572071"
      ]
     },
     "execution_count": 32,
     "metadata": {},
     "output_type": "execute_result"
    }
   ],
   "source": [
    "2500 / A"
   ]
  },
  {
   "cell_type": "code",
   "execution_count": 2,
   "metadata": {},
   "outputs": [
    {
     "data": {
      "text/plain": [
       "136.0"
      ]
     },
     "execution_count": 2,
     "metadata": {},
     "output_type": "execute_result"
    }
   ],
   "source": [
    "816/6"
   ]
  },
  {
   "cell_type": "markdown",
   "metadata": {},
   "source": []
  },
  {
   "cell_type": "markdown",
   "metadata": {},
   "source": []
  }
 ],
 "metadata": {
  "kernelspec": {
   "display_name": "Python 3.9.13 ('venv': venv)",
   "language": "python",
   "name": "python3"
  },
  "language_info": {
   "codemirror_mode": {
    "name": "ipython",
    "version": 3
   },
   "file_extension": ".py",
   "mimetype": "text/x-python",
   "name": "python",
   "nbconvert_exporter": "python",
   "pygments_lexer": "ipython3",
   "version": "3.9.15"
  },
  "orig_nbformat": 4,
  "vscode": {
   "interpreter": {
    "hash": "ec05d25148161a7812d69c470ef001398f5fb4009ce6fe51f0e3ac52fbb62d0c"
   }
  }
 },
 "nbformat": 4,
 "nbformat_minor": 2
}
